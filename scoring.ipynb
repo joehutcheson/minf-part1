{
 "cells": [
  {
   "cell_type": "markdown",
   "metadata": {},
   "source": [
    "# Scoring\n",
    "\n",
    "In this notebook we use the code we have implemented to assess the saftey based on rules 1 and 2 of RSS"
   ]
  },
  {
   "cell_type": "code",
   "execution_count": 12,
   "metadata": {},
   "outputs": [],
   "source": [
    "%matplotlib inline\n",
    "from nuscenes.nuscenes import NuScenes, NuScenesExplorer\n",
    "\n",
    "import numpy as np\n",
    "\n",
    "from minf_part1_functions import *\n",
    "from my_nuscenes_functions import *\n",
    "\n",
    "dataroot = 'data/sets/nuscenes'\n",
    "\n",
    "nusc = NuScenes(version='v1.0-mini', dataroot=dataroot, verbose=False)\n",
    "\n",
    "scene = nusc.scene[0]\n",
    "sample = nusc.get('sample', scene['first_sample_token'])\n",
    "\n",
    "scores = []\n",
    "instances = []\n",
    "done = False\n",
    "while not done:\n",
    "    for ann in sample['anns']:\n",
    "        instance_token = nusc.get('sample_annotation', ann)['instance_token']\n",
    "        instance = nusc.get('instance', instance_token)\n",
    "        category = nusc.get('category', instance['category_token'])['name']\n",
    "        if instance_token not in instances and 'vehicle' in category:\n",
    "            s = generate_scores_for_instance(nusc, instance_token)\n",
    "            scores.append((instance_token, min(s)))\n",
    "            instances.append(instance_token)\n",
    "\n",
    "    if sample['next']:\n",
    "        sample = nusc.get('sample', sample['next'])\n",
    "    else:\n",
    "        done = True"
   ]
  },
  {
   "cell_type": "code",
   "execution_count": 18,
   "metadata": {},
   "outputs": [
    {
     "data": {
      "image/png": "[encoded data removed]",
      "text/plain": [
       "<Figure size 640x480 with 1 Axes>"
      ]
     },
     "metadata": {},
     "output_type": "display_data"
    }
   ],
   "source": [
    "import matplotlib.pyplot as plt\n",
    "\n",
    "fig, ax = plt.subplots()\n",
    "ax.hist([v for (_, v) in scores])\n",
    "plt.show()"
   ]
  }
 ],
 "metadata": {
  "interpreter": {
   "hash": "cd45385d40c90d40d00560691f22a2fd796178e676857ff5ca6483f0c7aa95c8"
  },
  "kernelspec": {
   "display_name": "Python 3.8.13 ('proj')",
   "language": "python",
   "name": "python3"
  },
  "language_info": {
   "codemirror_mode": {
    "name": "ipython",
    "version": 3
   },
   "file_extension": ".py",
   "mimetype": "text/x-python",
   "name": "python",
   "nbconvert_exporter": "python",
   "pygments_lexer": "ipython3",
   "version": "3.8.13"
  },
  "orig_nbformat": 4
 },
 "nbformat": 4,
 "nbformat_minor": 2
}
