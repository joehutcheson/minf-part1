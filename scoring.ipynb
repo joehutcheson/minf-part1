{
 "cells": [
  {
   "cell_type": "markdown",
   "metadata": {},
   "source": [
    "# Scoring\n",
    "\n",
    "In this notebook we use the code we have implemented to assess the saftey based on rules 1 and 2 of RSS"
   ]
  },
  {
   "cell_type": "markdown",
   "metadata": {},
   "source": [
    "## Import Nuscenes data\n",
    "Using DICE this will take much longer on the first run. This is because the data is cached after that"
   ]
  },
  {
   "cell_type": "code",
   "execution_count": 1,
   "metadata": {},
   "outputs": [],
   "source": [
    "%matplotlib inline\n",
    "from nuscenes.nuscenes import NuScenes\n",
    "\n",
    "import numpy as np\n",
    "from tqdm import tqdm\n",
    "\n",
    "from minf_part1_functions import *\n",
    "from my_nuscenes_functions import *\n",
    "\n",
    "# dataroot = 'data/sets/nuscenes'\n",
    "dataroot = '/Volumes/kingston/v1.0-mini'\n",
    "# nusc = NuScenes(version='v1.0-trainval', dataroot=dataroot, verbose=True)\n",
    "nusc = NuScenes(version='v1.0-mini', dataroot=dataroot, verbose=False)"
   ]
  },
  {
   "cell_type": "code",
   "execution_count": 11,
   "metadata": {},
   "outputs": [
    {
     "name": "stderr",
     "output_type": "stream",
     "text": [
      "100%|██████████| 10/10 [00:08<00:00,  1.15it/s]\n"
     ]
    }
   ],
   "source": [
    "scores = []\n",
    "\n",
    "for scene in tqdm(nusc.scene):\n",
    "    sample = nusc.get('sample', scene['first_sample_token'])\n",
    "\n",
    "    def get_score(score_dict):\n",
    "        return score_dict['score']\n",
    "\n",
    "    instances = set()\n",
    "\n",
    "    done = False\n",
    "    # loop through all samples in scenes\n",
    "    while not done:\n",
    "        # loop through all annotations in sample\n",
    "        for ann in sample['anns']:\n",
    "            instance_token = nusc.get('sample_annotation', ann)['instance_token']\n",
    "            instance = nusc.get('instance', instance_token)\n",
    "            category = nusc.get('category', instance['category_token'])['name']\n",
    "            if instance_token not in instances and 'vehicle' in category:\n",
    "                s = generate_scores_for_instance(nusc, instance_token, aggressive=True)\n",
    "                if s:\n",
    "                    s = min(s, key=get_score)\n",
    "                    s['instance'] = instance_token\n",
    "                    scores.append(s)\n",
    "                    instances.add(instance_token)\n",
    "        \n",
    "        # check for next sample\n",
    "        if sample['next']:\n",
    "            sample = nusc.get('sample', sample['next'])\n",
    "        else:\n",
    "            done = True"
   ]
  },
  {
   "cell_type": "code",
   "execution_count": 17,
   "metadata": {},
   "outputs": [
    {
     "data": {
      "text/plain": "249"
     },
     "execution_count": 17,
     "metadata": {},
     "output_type": "execute_result"
    }
   ],
   "source": [
    "xs = [score for score in scores if score['score'] < 1]\n",
    "xs"
   ]
  },
  {
   "cell_type": "code",
   "execution_count": 12,
   "metadata": {},
   "outputs": [
    {
     "data": {
      "image/png": "[encoded data removed]",
      "text/plain": [
       "<Figure size 640x480 with 1 Axes>"
      ]
     },
     "metadata": {},
     "output_type": "display_data"
    }
   ],
   "source": [
    "import matplotlib.pyplot as plt\n",
    "plt.hist([x['score'] for x in xs])\n",
    "plt.ylim(0, 500)\n",
    "plt.show()"
   ]
  },
  {
   "cell_type": "code",
   "execution_count": null,
   "metadata": {},
   "outputs": [],
   "source": [
    "sample = nusc.get('sample',scene['first_sample_token'])\n",
    "v = []\n",
    "t = []\n",
    "done = False\n",
    "while not done:\n",
    "    v.append(np.linalg.norm(get_ego_velocity(nusc, sample['token'])))\n",
    "    t.append(sample['timestamp'])\n",
    "    if sample['next']:\n",
    "        sample = nusc.get('sample', sample['next'])\n",
    "    else: \n",
    "        done = True\n"
   ]
  },
  {
   "cell_type": "code",
   "execution_count": null,
   "metadata": {},
   "outputs": [],
   "source": [
    "import matplotlib.pyplot as plt\n",
    "plt.plot(t, v)"
   ]
  }
 ],
 "metadata": {
  "interpreter": {
   "hash": "cd45385d40c90d40d00560691f22a2fd796178e676857ff5ca6483f0c7aa95c8"
  },
  "kernelspec": {
   "display_name": "Python 3",
   "language": "python",
   "name": "python3"
  },
  "language_info": {
   "codemirror_mode": {
    "name": "ipython",
    "version": 3
   },
   "file_extension": ".py",
   "mimetype": "text/x-python",
   "name": "python",
   "nbconvert_exporter": "python",
   "pygments_lexer": "ipython3",
   "version": "3.8.13"
  }
 },
 "nbformat": 4,
 "nbformat_minor": 4
}
